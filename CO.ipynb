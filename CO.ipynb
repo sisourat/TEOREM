{
 "cells": [
  {
   "cell_type": "code",
   "execution_count": 1,
   "metadata": {},
   "outputs": [],
   "source": [
    "import psi4"
   ]
  },
  {
   "cell_type": "code",
   "execution_count": 18,
   "metadata": {},
   "outputs": [
    {
     "name": "stdout",
     "output_type": "stream",
     "text": [
      "Warning: used thermodynamics relations inappropriate for low-frequency modes: ['362.2691' '362.2691']\n",
      "Résultats avec la base  cc-pvdz\n",
      "L'énergie Hartree-Fock en u.a. est  -112.748173564712\n",
      "La fréquence de vibration en cm^-1 est  2212.4317992593205\n"
     ]
    }
   ],
   "source": [
    "# ==> Define Molecule <==\n",
    "mol = psi4.geometry(\"\"\"\n",
    " C            0.000000000000     0.000000000000    -0.650111203284\n",
    " O            0.000000000000     0.000000000000     0.487738423428\n",
    " units angstrom\n",
    "\"\"\")\n",
    "\n",
    "basis = 'cc-pvdz'\n",
    "\n",
    "\n",
    "# Set computation options\n",
    "psi4.set_options({'basis': basis,\n",
    "                  'scf_type': 'pk',\n",
    "                  'e_convergence': 1e-8})\n",
    "\n",
    "# compute\n",
    "\n",
    "scf_e, scf_wfn = psi4.frequency('scf',return_wfn=True)\n",
    "\n",
    "print(\"Résultats avec la base \", basis)\n",
    "print(\"L'énergie Hartree-Fock en u.a. est \",scf_e)\n",
    "print(\"La fréquence de vibration en cm^-1 est \",scf_wfn.frequencies().to_array()[-1])\n"
   ]
  },
  {
   "cell_type": "code",
   "execution_count": null,
   "metadata": {},
   "outputs": [],
   "source": []
  },
  {
   "cell_type": "code",
   "execution_count": null,
   "metadata": {},
   "outputs": [],
   "source": []
  }
 ],
 "metadata": {
  "kernelspec": {
   "display_name": "Python 3",
   "language": "python",
   "name": "python3"
  },
  "language_info": {
   "codemirror_mode": {
    "name": "ipython",
    "version": 3
   },
   "file_extension": ".py",
   "mimetype": "text/x-python",
   "name": "python",
   "nbconvert_exporter": "python",
   "pygments_lexer": "ipython3",
   "version": "3.8.6"
  }
 },
 "nbformat": 4,
 "nbformat_minor": 4
}
